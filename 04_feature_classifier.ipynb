{
 "cells": [
  {
   "cell_type": "code",
   "execution_count": 1,
   "metadata": {
    "collapsed": true
   },
   "outputs": [],
   "source": [
    "import pandas as pd\n",
    "import sklearn\n",
    "import sklearn.model_selection\n",
    "import sklearn.linear_model\n",
    "import sklearn.metrics\n",
    "import sklearn.svm\n",
    "import xgboost"
   ]
  },
  {
   "cell_type": "code",
   "execution_count": 2,
   "metadata": {
    "collapsed": true
   },
   "outputs": [],
   "source": [
    "data = pd.read_csv('train_features.csv')\n",
    "data_test = pd.read_csv('test_features.csv')"
   ]
  },
  {
   "cell_type": "code",
   "execution_count": 4,
   "metadata": {
    "collapsed": true,
    "scrolled": true
   },
   "outputs": [],
   "source": [
    "SEED = 63467\n",
    "data_train, data_valid = sklearn.model_selection.train_test_split(data, random_state = SEED, test_size = 0.1)"
   ]
  },
  {
   "cell_type": "markdown",
   "metadata": {},
   "source": [
    "Columns are either target or features"
   ]
  },
  {
   "cell_type": "code",
   "execution_count": 5,
   "metadata": {},
   "outputs": [],
   "source": [
    "target_cols = data_train.columns[1:7]\n",
    "feature_cols = data_train.columns[7:]"
   ]
  },
  {
   "cell_type": "markdown",
   "metadata": {},
   "source": [
    "Let's try some classifiers"
   ]
  },
  {
   "cell_type": "code",
   "execution_count": null,
   "metadata": {
    "collapsed": true,
    "scrolled": true
   },
   "outputs": [],
   "source": [
    "use_xgboost = True\n",
    "\n",
    "target_name = 'toxic'\n",
    "Y = data_train[target_name]\n",
    "X = data_train[feature_cols]\n",
    "\n",
    "if use_xgboost:\n",
    "    model = xgboost.XGBClassifier(\n",
    "        n_jobs = 32,\n",
    "        seed = SEED,\n",
    "        max_depth = 5,\n",
    "        n_estimators = 600\n",
    "    )\n",
    "else:\n",
    "    model = sklearn.linear_model.LogisticRegression()\n",
    "\n",
    "model.fit(X, Y)"
   ]
  },
  {
   "cell_type": "code",
   "execution_count": null,
   "metadata": {
    "collapsed": true,
    "scrolled": true
   },
   "outputs": [],
   "source": [
    "# CV Score on 'toxic\n",
    "predictions = model.predict_proba(data_valid[feature_cols])[:,1]\n",
    "actual = data_valid[target_name]\n",
    "cv_score = sklearn.metrics.roc_auc_score(actual, predictions)\n",
    "cv_score"
   ]
  },
  {
   "cell_type": "code",
   "execution_count": null,
   "metadata": {
    "collapsed": true,
    "scrolled": false
   },
   "outputs": [],
   "source": [
    "# Grid search for XGBoost\n",
    "for max_depth in [3, 6, 9]:\n",
    "    for n_estimators in [250, 500, 750]:\n",
    "        model = xgboost.XGBClassifier(\n",
    "            n_jobs = 32,\n",
    "            seed = SEED,\n",
    "            max_depth = max_depth,\n",
    "            n_estimators = n_estimators\n",
    "        )\n",
    "        model.fit(X, Y)\n",
    "        predictions = model.predict_proba(data_valid[feature_cols])[:,1]\n",
    "        actual = data_valid[target_name]\n",
    "        cv_score = sklearn.metrics.roc_auc_score(actual, predictions)\n",
    "        print(max_depth, n_estimators, cv_score)"
   ]
  },
  {
   "cell_type": "code",
   "execution_count": null,
   "metadata": {
    "collapsed": true,
    "scrolled": false
   },
   "outputs": [],
   "source": [
    "# Grid search for XGBoost\n",
    "for max_depth, n_estimators in [(10, 850), (11, 950), (12, 1000), (15, 1300)]:\n",
    "    model = xgboost.XGBClassifier(\n",
    "        n_jobs = 32,\n",
    "        seed = SEED,\n",
    "        max_depth = max_depth,\n",
    "        n_estimators = n_estimators\n",
    "    )\n",
    "    model.fit(X, Y)\n",
    "    predictions = model.predict_proba(data_valid[feature_cols])[:,1]\n",
    "    actual = data_valid[target_name]\n",
    "    cv_score = sklearn.metrics.roc_auc_score(actual, predictions)\n",
    "    print(max_depth, n_estimators, cv_score)"
   ]
  },
  {
   "cell_type": "markdown",
   "metadata": {},
   "source": [
    "Run on test set and do submission"
   ]
  },
  {
   "cell_type": "code",
   "execution_count": null,
   "metadata": {
    "scrolled": true
   },
   "outputs": [
    {
     "name": "stdout",
     "output_type": "stream",
     "text": [
      "toxic\n"
     ]
    }
   ],
   "source": [
    "submission = pd.DataFrame()\n",
    "submission['id'] = data_test['id']\n",
    "for target_name in target_cols:\n",
    "    print(target_name)\n",
    "    Y = data[target_name]\n",
    "    X = data[feature_cols]\n",
    "    model = xgboost.XGBClassifier(\n",
    "        n_jobs = 32,\n",
    "        seed = SEED,\n",
    "        silent = False,\n",
    "        max_depth = 12,\n",
    "        n_estimators = 1000\n",
    "    )\n",
    "    model.fit(X, Y)\n",
    "    submission[target_name] = model.predict_proba(data_test[feature_cols])[:,1]"
   ]
  },
  {
   "cell_type": "code",
   "execution_count": null,
   "metadata": {
    "collapsed": true
   },
   "outputs": [],
   "source": [
    "submission.to_csv('submission.csv', index = False)"
   ]
  }
 ],
 "metadata": {
  "kernelspec": {
   "display_name": "Python 3",
   "language": "python",
   "name": "python3"
  },
  "language_info": {
   "codemirror_mode": {
    "name": "ipython",
    "version": 3
   },
   "file_extension": ".py",
   "mimetype": "text/x-python",
   "name": "python",
   "nbconvert_exporter": "python",
   "pygments_lexer": "ipython3",
   "version": "3.6.3"
  }
 },
 "nbformat": 4,
 "nbformat_minor": 2
}
